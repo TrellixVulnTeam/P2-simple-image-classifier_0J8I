{
 "cells": [
  {
   "cell_type": "markdown",
   "metadata": {
    "collapsed": true
   },
   "source": [
    "# Image Classification\n",
    "In this project, you'll classify images from the [CIFAR-10 dataset](https://www.cs.toronto.edu/~kriz/cifar.html).  The dataset consists of airplanes, dogs, cats, and other objects. You'll preprocess the images, then train a convolutional neural network on all the samples. The images need to be normalized and the labels need to be one-hot encoded.  You'll get to apply what you learned and build a convolutional, max pooling, dropout, and fully connected layers.  At the end, you'll get to see your neural network's predictions on the sample images.\n",
    "## Get the Data\n",
    "Run the following cell to download the [CIFAR-10 dataset for python](https://www.cs.toronto.edu/~kriz/cifar-10-python.tar.gz)."
   ]
  },
  {
   "cell_type": "markdown",
   "metadata": {},
   "source": [
    "## Global methods & vars"
   ]
  },
  {
   "cell_type": "code",
   "execution_count": 98,
   "metadata": {
    "collapsed": false
   },
   "outputs": [],
   "source": [
    "import os\n",
    "import time\n",
    "import logging\n",
    "from datetime import timedelta\n",
    "\n",
    "#image_shape = [32, 32, 3]\n",
    "\n",
    "def  split(start_time):\n",
    "    # method for messuring the relative time usage \n",
    "    split_time = time.time()\n",
    "    time_dif   = split_time - start_time\n",
    "    #time_str = str(timedelta(seconds = int(round(time_dif))))\n",
    "    time_str = str(timedelta(seconds = int(time_dif)))\n",
    "    return time_str\n",
    "\n",
    "def init_logging():\n",
    "    log_dir = 'dlnd-log/'\n",
    "    if not os.path.exists(log_dir):\n",
    "        os.makedirs(log_dir)\n",
    "    log_path = os.path.join(log_dir, 'event.log')\n",
    "    # remember to set level=logging.CRITICAL\n",
    "    logging.basicConfig(filename=log_path, format='%(levelname)s: - %(asctime)s : - %(message)s', level=logging.CRITICAL)\n",
    "    logging.info('log start')  # information about when the log is \"restarted\"\n",
    "\n",
    "start_time =    time.time()\n",
    "init_logging()"
   ]
  },
  {
   "cell_type": "code",
   "execution_count": 53,
   "metadata": {
    "collapsed": false
   },
   "outputs": [
    {
     "name": "stdout",
     "output_type": "stream",
     "text": [
      "All files found!\n"
     ]
    }
   ],
   "source": [
    "\"\"\"\n",
    "DON'T MODIFY ANYTHING IN THIS CELL THAT IS BELOW THIS LINE\n",
    "\"\"\"\n",
    "from urllib.request import urlretrieve\n",
    "from os.path import isfile, isdir\n",
    "from tqdm import tqdm\n",
    "import problem_unittests as tests\n",
    "import tarfile\n",
    "\n",
    "cifar10_dataset_folder_path = 'cifar-10-batches-py'\n",
    "\n",
    "class DLProgress(tqdm):\n",
    "    last_block = 0\n",
    "\n",
    "    def hook(self, block_num=1, block_size=1, total_size=None):\n",
    "        self.total = total_size\n",
    "        self.update((block_num - self.last_block) * block_size)\n",
    "        self.last_block = block_num\n",
    "\n",
    "if not isfile('cifar-10-python.tar.gz'):\n",
    "    with DLProgress(unit='B', unit_scale=True, miniters=1, desc='CIFAR-10 Dataset') as pbar:\n",
    "        urlretrieve(\n",
    "            'https://www.cs.toronto.edu/~kriz/cifar-10-python.tar.gz',\n",
    "            'cifar-10-python.tar.gz',\n",
    "            pbar.hook)\n",
    "\n",
    "if not isdir(cifar10_dataset_folder_path):\n",
    "    with tarfile.open('cifar-10-python.tar.gz') as tar:\n",
    "        tar.extractall()\n",
    "        tar.close()\n",
    "\n",
    "\n",
    "tests.test_folder_path(cifar10_dataset_folder_path)"
   ]
  },
  {
   "cell_type": "code",
   "execution_count": 54,
   "metadata": {
    "collapsed": true
   },
   "outputs": [],
   "source": [
    "logging.debug(\"Finished looking for data files\")"
   ]
  },
  {
   "cell_type": "markdown",
   "metadata": {},
   "source": [
    "## Explore the Data\n",
    "The dataset is broken into batches to prevent your machine from running out of memory.  The CIFAR-10 dataset consists of 5 batches, named `data_batch_1`, `data_batch_2`, etc.. Each batch contains the labels and images that are one of the following:\n",
    "* airplane\n",
    "* automobile\n",
    "* bird\n",
    "* cat\n",
    "* deer\n",
    "* dog\n",
    "* frog\n",
    "* horse\n",
    "* ship\n",
    "* truck\n",
    "\n",
    "Understanding a dataset is part of making predictions on the data.  Play around with the code cell below by changing the `batch_id` and `sample_id`. The `batch_id` is the id for a batch (1-5). The `sample_id` is the id for a image and label pair in the batch.\n",
    "\n",
    "Ask yourself \"What are all possible labels?\", \"What is the range of values for the image data?\", \"Are the labels in order or random?\".  Answers to questions like these will help you preprocess the data and end up with better predictions."
   ]
  },
  {
   "cell_type": "code",
   "execution_count": 55,
   "metadata": {
    "collapsed": false
   },
   "outputs": [],
   "source": [
    "%matplotlib inline\n",
    "%config InlineBackend.figure_format = 'retina'\n",
    "\n",
    "\n",
    "import helper\n",
    "import numpy as np\n",
    "\n",
    "# Explore the dataset\n",
    "# batch_id = 5\n",
    "# sample_id = 500\n",
    "# helper.display_stats(cifar10_dataset_folder_path, batch_id, sample_id)"
   ]
  },
  {
   "cell_type": "markdown",
   "metadata": {},
   "source": [
    "## Implement Preprocess Functions\n",
    "### Normalize\n",
    "In the cell below, implement the `normalize` function to take in image data, `x`, and return it as a normalized Numpy array. The values should be in the range of 0 to 1, inclusive.  The return object should be the same shape as `x`."
   ]
  },
  {
   "cell_type": "code",
   "execution_count": 56,
   "metadata": {
    "collapsed": false
   },
   "outputs": [
    {
     "name": "stdout",
     "output_type": "stream",
     "text": [
      "Tests Passed\n"
     ]
    }
   ],
   "source": [
    "def normalize(image_data):\n",
    "    \"\"\"\n",
    "    Normalize a list of sample image data in the range of 0 to 1\n",
    "    : x: List of image data.  The image shape is (32, 32, 3)\n",
    "    : return: Numpy array of normalize data\n",
    "    \"\"\"\n",
    "    # TODO: Implement Function\n",
    "    # My instructor suggested I use this generalised method but I get an assertion Error.\n",
    "    # I probably mad a mistake.. Will go back to what worked ... sort it out later...\n",
    "    #a = -0.5\n",
    "    #b = 0.5\n",
    "    #min_val = 0\n",
    "    #max_val = 255\n",
    "    #return a + ( ( (image_data - min_val)*(b - a) )/( max_val - min_val ) )\n",
    "\n",
    "    x = image_data.astype('float32')\n",
    "    if (x.max() > 1.0 and x.min() >= 0):\n",
    "        x /= 255.0\n",
    "    logging.debug(\"Data normalized\")\n",
    "    return x\n",
    "\n",
    "\n",
    "\n",
    "\"\"\"\n",
    "DON'T MODIFY ANYTHING IN THIS CELL THAT IS BELOW THIS LINE\n",
    "\"\"\"\n",
    "tests.test_normalize(normalize)"
   ]
  },
  {
   "cell_type": "markdown",
   "metadata": {},
   "source": [
    "### One-hot encode\n",
    "Just like the previous code cell, you'll be implementing a function for preprocessing.  This time, you'll implement the `one_hot_encode` function. The input, `x`, are a list of labels.  Implement the function to return the list of labels as One-Hot encoded Numpy array.  The possible values for labels are 0 to 9. The one-hot encoding function should return the same encoding for each value between each call to `one_hot_encode`.  Make sure to save the map of encodings outside the function.\n",
    "\n",
    "Hint: Don't reinvent the wheel."
   ]
  },
  {
   "cell_type": "code",
   "execution_count": 57,
   "metadata": {
    "collapsed": false
   },
   "outputs": [
    {
     "name": "stdout",
     "output_type": "stream",
     "text": [
      "Tests Passed\n"
     ]
    }
   ],
   "source": [
    "def one_hot_encode(x):\n",
    "    \"\"\"\n",
    "    One hot encode a list of sample labels. Return a one-hot encoded vector for each label.\n",
    "    : x: List of sample Labels\n",
    "    : return: Numpy array of one-hot encoded labels\n",
    "    \"\"\"\n",
    "    # TODO: Implement Function\n",
    "    lenghts=(len(x))\n",
    "    result = np.zeros((lenghts, 10))\n",
    "    temp = 0\n",
    "    for i in range(lenghts):    \n",
    "        temp = int(x[i])\n",
    "        # print (x[i])\n",
    "        if temp < 0:\n",
    "            x[i] = 0\n",
    "            print('Beware: Negative value was found, changed to zero')\n",
    "        elif temp > 9:\n",
    "            x[i] = 9\n",
    "            print('Beware: A large value in the data, was changed to MAX (9)')\n",
    "        \n",
    "        result[i][x[i]] = 1\n",
    "    logging.debug(\"Data one-hotted\")\n",
    "    return result\n",
    "\n",
    "\"\"\"\n",
    "DON'T MODIFY ANYTHING IN THIS CELL THAT IS BELOW THIS LINE\n",
    "\"\"\"\n",
    "tests.test_one_hot_encode(one_hot_encode)"
   ]
  },
  {
   "cell_type": "markdown",
   "metadata": {},
   "source": [
    "### Randomize Data\n",
    "As you saw from exploring the data above, the order of the samples are randomized.  It doesn't hurt to randomize it again, but you don't need to for this dataset."
   ]
  },
  {
   "cell_type": "markdown",
   "metadata": {},
   "source": [
    "## Preprocess all the data and save it\n",
    "Running the code cell below will preprocess all the CIFAR-10 data and save it to file. The code below also uses 10% of the training data for validation."
   ]
  },
  {
   "cell_type": "code",
   "execution_count": 58,
   "metadata": {
    "collapsed": false
   },
   "outputs": [],
   "source": [
    "\"\"\"\n",
    "DON'T MODIFY ANYTHING IN THIS CELL\n",
    "\"\"\"\n",
    "# Preprocess Training, Validation, and Testing Data\n",
    "helper.preprocess_and_save_data(cifar10_dataset_folder_path, normalize, one_hot_encode)"
   ]
  },
  {
   "cell_type": "code",
   "execution_count": 59,
   "metadata": {
    "collapsed": true
   },
   "outputs": [],
   "source": [
    "logging.debug(\"helper.preprocess_and_save_data(cifar10_dataset_folder_path, normalize, one_hot_encode)\")"
   ]
  },
  {
   "cell_type": "markdown",
   "metadata": {},
   "source": [
    "# Check Point\n",
    "This is your first checkpoint.  If you ever decide to come back to this notebook or have to restart the notebook, you can start from here.  The preprocessed data has been saved to disk."
   ]
  },
  {
   "cell_type": "code",
   "execution_count": 60,
   "metadata": {
    "collapsed": true
   },
   "outputs": [],
   "source": [
    "\"\"\"\n",
    "DON'T MODIFY ANYTHING IN THIS CELL\n",
    "\"\"\"\n",
    "import pickle\n",
    "import problem_unittests as tests\n",
    "import helper\n",
    "\n",
    "# Load the Preprocessed Validation data\n",
    "valid_features, valid_labels = pickle.load(open('preprocess_validation.p', mode='rb'))"
   ]
  },
  {
   "cell_type": "code",
   "execution_count": 61,
   "metadata": {
    "collapsed": true
   },
   "outputs": [],
   "source": [
    "logging.debug(\"[valid_features, valid_labels] ready for hyper parametre optimize\")"
   ]
  },
  {
   "cell_type": "markdown",
   "metadata": {},
   "source": [
    "## Build the network\n",
    "For the neural network, you'll build each layer into a function.  Most of the code you've seen has been outside of functions. To test your code more thoroughly, we require that you put each layer in a function.  This allows us to give you better feedback and test for simple mistakes using our unittests before you submit your project.\n",
    "\n",
    ">**Note:** If you're finding it hard to dedicate enough time for this course each week, we've provided a small shortcut to this part of the project. In the next couple of problems, you'll have the option to use classes from the [TensorFlow Layers](https://www.tensorflow.org/api_docs/python/tf/layers) or [TensorFlow Layers (contrib)](https://www.tensorflow.org/api_guides/python/contrib.layers) packages to build each layer, except the layers you build in the \"Convolutional and Max Pooling Layer\" section.  TF Layers is similar to Keras's and TFLearn's abstraction to layers, so it's easy to pickup.\n",
    "\n",
    ">However, if you would like to get the most out of this course, try to solve all the problems _without_ using anything from the TF Layers packages. You **can** still use classes from other packages that happen to have the same name as ones you find in TF Layers! For example, instead of using the TF Layers version of the `conv2d` class, [tf.layers.conv2d](https://www.tensorflow.org/api_docs/python/tf/layers/conv2d), you would want to use the TF Neural Network version of `conv2d`, [tf.nn.conv2d](https://www.tensorflow.org/api_docs/python/tf/nn/conv2d). \n",
    "\n",
    "Let's begin!\n",
    "\n",
    "### Input\n",
    "The neural network needs to read the image data, one-hot encoded labels, and dropout keep probability. Implement the following functions\n",
    "* Implement `neural_net_image_input`\n",
    " * Return a [TF Placeholder](https://www.tensorflow.org/api_docs/python/tf/placeholder)\n",
    " * Set the shape using `image_shape` with batch size set to `None`.\n",
    " * Name the TensorFlow placeholder \"x\" using the TensorFlow `name` parameter in the [TF Placeholder](https://www.tensorflow.org/api_docs/python/tf/placeholder).\n",
    "* Implement `neural_net_label_input`\n",
    " * Return a [TF Placeholder](https://www.tensorflow.org/api_docs/python/tf/placeholder)\n",
    " * Set the shape using `n_classes` with batch size set to `None`.\n",
    " * Name the TensorFlow placeholder \"y\" using the TensorFlow `name` parameter in the [TF Placeholder](https://www.tensorflow.org/api_docs/python/tf/placeholder).\n",
    "* Implement `neural_net_keep_prob_input`\n",
    " * Return a [TF Placeholder](https://www.tensorflow.org/api_docs/python/tf/placeholder) for dropout keep probability.\n",
    " * Name the TensorFlow placeholder \"keep_prob\" using the TensorFlow `name` parameter in the [TF Placeholder](https://www.tensorflow.org/api_docs/python/tf/placeholder).\n",
    "\n",
    "These names will be used at the end of the project to load your saved model.\n",
    "\n",
    "Note: `None` for shapes in TensorFlow allow for a dynamic size."
   ]
  },
  {
   "cell_type": "code",
   "execution_count": 62,
   "metadata": {
    "collapsed": false
   },
   "outputs": [
    {
     "name": "stdout",
     "output_type": "stream",
     "text": [
      "Image Input Tests Passed.\n",
      "Label Input Tests Passed.\n",
      "Keep Prob Tests Passed.\n"
     ]
    }
   ],
   "source": [
    "import tensorflow as tf\n",
    "\n",
    "def neural_net_image_input(image_shape):\n",
    "    \"\"\"\n",
    "    Return a Tensor for a batch of image input\n",
    "    : image_shape: Shape of the images\n",
    "    : return: Tensor for image input.\n",
    "    \"\"\"\n",
    "    # TODO: Implement Function\n",
    "    logging.debug(\"neural_net_image_input\")\n",
    "    return tf.placeholder(tf.float32, [None, image_shape[0], image_shape[1], image_shape[2]], name='x')\n",
    "\n",
    "\n",
    "def neural_net_label_input(n_classes):\n",
    "    \"\"\"\n",
    "    Return a Tensor for a batch of label input\n",
    "    : n_classes: Number of classes\n",
    "    : return: Tensor for label input.\n",
    "    \"\"\"\n",
    "    # TODO: Implement Function\n",
    "    logging.debug(\"neural_net_label_input\")\n",
    "    return tf.placeholder(dtype=tf.float32, shape=[None, n_classes], name=\"y\")\n",
    "\n",
    "\n",
    "def neural_net_keep_prob_input():\n",
    "    \"\"\"\n",
    "    Return a Tensor for keep probability\n",
    "    : return: Tensor for keep probability.\n",
    "    \"\"\"\n",
    "    # TODO: Implement Function\n",
    "    logging.debug(\"neural_net_keep_prob_input\")\n",
    "    return tf.placeholder(dtype=tf.float32, name=\"keep_prob\")\n",
    "\n",
    "\n",
    "\"\"\"\n",
    "DON'T MODIFY ANYTHING IN THIS CELL THAT IS BELOW THIS LINE\n",
    "\"\"\"\n",
    "tf.reset_default_graph()\n",
    "tests.test_nn_image_inputs(neural_net_image_input)\n",
    "tests.test_nn_label_inputs(neural_net_label_input)\n",
    "tests.test_nn_keep_prob_inputs(neural_net_keep_prob_input)"
   ]
  },
  {
   "cell_type": "markdown",
   "metadata": {},
   "source": [
    "### Convolution and Max Pooling Layer\n",
    "Convolution layers have a lot of success with images. For this code cell, you should implement the function `conv2d_maxpool` to apply convolution then max pooling:\n",
    "* Create the weight and bias using `conv_ksize`, `conv_num_outputs` and the shape of `x_tensor`.\n",
    "* Apply a convolution to `x_tensor` using weight and `conv_strides`.\n",
    " * We recommend you use same padding, but you're welcome to use any padding.\n",
    "* Add bias\n",
    "* Add a nonlinear activation to the convolution.\n",
    "* Apply Max Pooling using `pool_ksize` and `pool_strides`.\n",
    " * We recommend you use same padding, but you're welcome to use any padding.\n",
    "\n",
    "**Note:** You **can't** use [TensorFlow Layers](https://www.tensorflow.org/api_docs/python/tf/layers) or [TensorFlow Layers (contrib)](https://www.tensorflow.org/api_guides/python/contrib.layers) for **this** layer, but you can still use TensorFlow's [Neural Network](https://www.tensorflow.org/api_docs/python/tf/nn) package. You may still use the shortcut option for all the **other** layers.\n"
   ]
  },
  {
   "cell_type": "code",
   "execution_count": 63,
   "metadata": {
    "collapsed": false
   },
   "outputs": [
    {
     "name": "stdout",
     "output_type": "stream",
     "text": [
      "Tests Passed\n"
     ]
    }
   ],
   "source": [
    "def weight_variable(shape_weights):\n",
    "    initial = tf.truncated_normal(shape_weights, stddev=0.04)\n",
    "    return tf.Variable(initial)\n",
    "\n",
    "def bias_variable(shape_b):\n",
    "    initial = tf.constant(0.1, shape=shape_b)\n",
    "    return tf.Variable(initial)\n",
    "\n",
    "def conv2d(x_tensor, filter_weight, stride, c_padding):\n",
    "    return tf.nn.conv2d(x_tensor, filter_weight, stride, c_padding)\n",
    "\n",
    "def max_pool(x_tensor, pool_patch_sh, pool_stride_sh, mp_padding):\n",
    "    return tf.nn.max_pool(x_tensor, pool_patch_sh, pool_stride_sh, mp_padding)\n",
    "    \n",
    "def conv2d_maxpool(x_tensor, conv_num_outp, conv_ksize, conv_strides, pool_ksize, pool_strides):\n",
    "    \"\"\"\n",
    "    Apply convolution then max pooling to x_tensor\n",
    "    :param x_tensor: TensorFlow Tensor\n",
    "    :param conv_num_outp: Number of outputs for the convolutional layer\n",
    "    :param conv_ksize: kernal size 2-D Tuple for the convolutional layer\n",
    "    :param conv_strides: Stride 2-D Tuple for convolution\n",
    "    :param pool_ksize: kernal size 2-D Tuple for pool\n",
    "    :param pool_strides: Stride 2-D Tuple for pool\n",
    "    : return: A tensor that represents convolution and max pooling of x_tensor\n",
    "    \"\"\"\n",
    "    # TODO: Implement Function\n",
    "    #\n",
    "    #global image_shape\n",
    "    logging.debug(\"conv2d_maxpool(x_tensor, conv_num_outp, conv_ksize, conv_strides, pool_ksize, pool_strides)\")\n",
    "\n",
    "    tensor_shape  = x_tensor.get_shape().as_list()\n",
    "    logging.debug(\"tensor_shape  = x_tensor.get_shape().as_list():%s\", tensor_shape)\n",
    "    shape_weights = [conv_ksize[0], conv_ksize[1], tensor_shape[3], conv_num_outp]\n",
    "    filter_weight = weight_variable(shape_weights)  \n",
    "        \n",
    "    filter_bias   = bias_variable([conv_num_outp])\n",
    "        \n",
    "    stride       = [1, conv_strides[0], conv_strides[1],1]\n",
    "    c_padding    = 'SAME'\n",
    "    conv_out     = conv2d(x_tensor, filter_weight, stride, c_padding)\n",
    "    bias_add_out = tf.nn.bias_add(conv_out, filter_bias)\n",
    "    relu_out     = tf.nn.relu(bias_add_out)\n",
    "    \n",
    "    pool_patch_sh  = [1, pool_ksize[0],   pool_ksize[1], 1]\n",
    "    pool_stride_sh = [1, pool_strides[0], pool_strides[1], 1]\n",
    "    mp_padding     = 'VALID'\n",
    " \n",
    "    return max_pool(relu_out, pool_patch_sh, pool_stride_sh, mp_padding)\n",
    "\n",
    "\"\"\"\n",
    "DON'T MODIFY ANYTHING IN THIS CELL THAT IS BELOW THIS LINE\n",
    "\"\"\"\n",
    "tests.test_con_pool(conv2d_maxpool)"
   ]
  },
  {
   "cell_type": "markdown",
   "metadata": {},
   "source": [
    "### Flatten Layer\n",
    "Implement the `flatten` function to change the dimension of `x_tensor` from a 4-D tensor to a 2-D tensor.  The output should be the shape (*Batch Size*, *Flattened Image Size*). Shortcut option: you can use classes from the [TensorFlow Layers](https://www.tensorflow.org/api_docs/python/tf/layers) or [TensorFlow Layers (contrib)](https://www.tensorflow.org/api_guides/python/contrib.layers) packages for this layer. For more of a challenge, only use other TensorFlow packages."
   ]
  },
  {
   "cell_type": "code",
   "execution_count": 64,
   "metadata": {
    "collapsed": false
   },
   "outputs": [
    {
     "name": "stdout",
     "output_type": "stream",
     "text": [
      "Tests Passed\n"
     ]
    }
   ],
   "source": [
    "def flatten(x_tensor):\n",
    "    \"\"\"\n",
    "    Flatten x_tensor to (Batch Size, Flattened Image Size)\n",
    "    : x_tensor: A tensor of size (Batch Size, ...), where ... are the image dimensions.\n",
    "    : return: A tensor of size (Batch Size, Flattened Image Size).\n",
    "    \"\"\"\n",
    "    # TODO: Implement Function\n",
    "    logging.debug(\"flatten(x_tensor)\")\n",
    "    tensor_shape = x_tensor.get_shape().as_list();\n",
    "    logging.debug(\"tensor_shape  = x_tensor.get_shape().as_list():%s\", tensor_shape)\n",
    "    dim = int(tensor_shape[1] * tensor_shape[2] * tensor_shape[3])\n",
    "    logging.debug(\"dim(%s) = int(%s*%s*%s)\", dim, tensor_shape[1], tensor_shape[2], tensor_shape[3])\n",
    "    logging.debug(\"return tf.reshape(x_tensor, [-1, dim])\")\n",
    "    return tf.reshape(x_tensor, [-1, dim])\n",
    "\n",
    "\"\"\"\n",
    "DON'T MODIFY ANYTHING IN THIS CELL THAT IS BELOW THIS LINE\n",
    "\"\"\"\n",
    "tests.test_flatten(flatten)"
   ]
  },
  {
   "cell_type": "markdown",
   "metadata": {},
   "source": [
    "### Fully-Connected Layer\n",
    "Implement the `fully_conn` function to apply a fully connected layer to `x_tensor` with the shape (*Batch Size*, *num_outputs*). Shortcut option: you can use classes from the [TensorFlow Layers](https://www.tensorflow.org/api_docs/python/tf/layers) or [TensorFlow Layers (contrib)](https://www.tensorflow.org/api_guides/python/contrib.layers) packages for this layer. For more of a challenge, only use other TensorFlow packages."
   ]
  },
  {
   "cell_type": "code",
   "execution_count": 65,
   "metadata": {
    "collapsed": false
   },
   "outputs": [
    {
     "name": "stdout",
     "output_type": "stream",
     "text": [
      "Tests Passed\n"
     ]
    }
   ],
   "source": [
    "def tensor_weight_bias(x_tensor, num_outputs):\n",
    "    tensor_shape = x_tensor.get_shape().as_list();\n",
    "    logging.debug(\"tensor_shape  = x_tensor.get_shape().as_list():%s\", tensor_shape)\n",
    "    num_input    = tensor_shape[1]\n",
    "    \n",
    "    \n",
    "    weight_fc1 = weight_variable([num_input, num_outputs])\n",
    "    biases_fc1 = bias_variable([num_outputs])\n",
    "\n",
    "    mm_weight = tf.matmul(x_tensor, weight_fc1)\n",
    "    mm_w_n_b  = tf.nn.bias_add(mm_weight, biases_fc1)\n",
    "    return mm_w_n_b\n",
    "\n",
    "def fully_conn(x_tensor, num_outputs):\n",
    "    \"\"\"\n",
    "    Apply a fully connected layer to x_tensor using weight and bias\n",
    "    : x_tensor: A 2-D tensor where the first dimension is batch size.\n",
    "    : num_outputs: The number of output that the new tensor should be.\n",
    "    : return: A 2-D tensor where the second dimension is num_outputs.\n",
    "    \"\"\"\n",
    "    # TODO: Implement Function\n",
    "    logging.debug(\"fully_conn(x_tensor, num_outputs)\")\n",
    "    \n",
    "    mm_w_n_b = tensor_weight_bias(x_tensor, num_outputs)\n",
    "    \n",
    "    logging.debug(\"fully_conn ended - return tf.nn.relu(mm_w_n_b)\")\n",
    "  \n",
    "    return tf.nn.relu(mm_w_n_b)\n",
    "\n",
    "\n",
    "\"\"\"\n",
    "DON'T MODIFY ANYTHING IN THIS CELL THAT IS BELOW THIS LINE\n",
    "\"\"\"\n",
    "tests.test_fully_conn(fully_conn)"
   ]
  },
  {
   "cell_type": "markdown",
   "metadata": {},
   "source": [
    "### Output Layer\n",
    "Implement the `output` function to apply a fully connected layer to `x_tensor` with the shape (*Batch Size*, *num_outputs*). Shortcut option: you can use classes from the [TensorFlow Layers](https://www.tensorflow.org/api_docs/python/tf/layers) or [TensorFlow Layers (contrib)](https://www.tensorflow.org/api_guides/python/contrib.layers) packages for this layer. For more of a challenge, only use other TensorFlow packages.\n",
    "\n",
    "**Note:** Activation, softmax, or cross entropy should **not** be applied to this."
   ]
  },
  {
   "cell_type": "code",
   "execution_count": 66,
   "metadata": {
    "collapsed": false
   },
   "outputs": [
    {
     "name": "stdout",
     "output_type": "stream",
     "text": [
      "Tests Passed\n"
     ]
    }
   ],
   "source": [
    "def output(x_tensor, num_outputs):\n",
    "    \"\"\"\n",
    "    Apply a output layer to x_tensor using weight and bias\n",
    "    : x_tensor: A 2-D tensor where the first dimension is batch size.\n",
    "    : num_outputs: The number of output that the new tensor should be.\n",
    "    : return: A 2-D tensor where the second dimension is num_outputs.\n",
    "    \"\"\"\n",
    "    # TODO: Implement Function\n",
    "    logging.debug(\"output - return fully_conn(x_tensor, num_outputs)\")\n",
    "    return tensor_weight_bias(x_tensor, num_outputs)\n",
    "\n",
    "\n",
    "\"\"\"\n",
    "DON'T MODIFY ANYTHING IN THIS CELL THAT IS BELOW THIS LINE\n",
    "\"\"\"\n",
    "tests.test_output(output)"
   ]
  },
  {
   "cell_type": "markdown",
   "metadata": {},
   "source": [
    "### Create Convolutional Model\n",
    "Implement the function `conv_net` to create a convolutional neural network model. The function takes in a batch of images, `x`, and outputs logits.  Use the layers you created above to create this model:\n",
    "\n",
    "* Apply 1, 2, or 3 Convolution and Max Pool layers\n",
    "* Apply a Flatten Layer\n",
    "* Apply 1, 2, or 3 Fully Connected Layers\n",
    "* Apply an Output Layer\n",
    "* Return the output\n",
    "* Apply [TensorFlow's Dropout](https://www.tensorflow.org/api_docs/python/tf/nn/dropout) to one or more layers in the model using `keep_prob`. "
   ]
  },
  {
   "cell_type": "code",
   "execution_count": 89,
   "metadata": {
    "collapsed": false
   },
   "outputs": [
    {
     "name": "stdout",
     "output_type": "stream",
     "text": [
      "Neural Network Built!\n"
     ]
    }
   ],
   "source": [
    "def conv_net(x, keep_prob,):\n",
    "    \"\"\"\n",
    "    Create a convolutional neural network model\n",
    "    : x: Placeholder tensor that holds image data.\n",
    "    : keep_prob: Placeholder tensor that hold dropout keep probability.\n",
    "    : return: Tensor that represents logits\n",
    "    \"\"\"\n",
    "    \n",
    "    # TODO: Apply 1, 2, or 3 Convolution and Max Pool layers\n",
    "    # Play around with different number of outputs, kernel size and stride\n",
    "    # Function Definition from Above:\n",
    "    # conv2d_maxpool(x_tensor, conv_num_outputs, conv_ksize, conv_strides, pool_ksize, pool_strides)\n",
    "    \n",
    "    logging.debug(\"conv_net(x, keep_prob,) - start\")\n",
    "\n",
    "    model = x\n",
    "    model_shape = model.get_shape().as_list();\n",
    "    logging.debug(\"model_shape  = model.get_shape().as_list():%s\", model_shape)\n",
    "\n",
    "    num_conv_layers       =  4\n",
    "    outputs               = 15          # *n -> 15, 30, 45, 60 \n",
    "    ck                    =  3          # +1 ->  3,  4,  5,  6\n",
    "    conv_strides = (1,1)\n",
    "    pool_ksize   = (2,2)\n",
    "    pool_strides = (2,2)\n",
    "    \n",
    "    for n in range (1, num_conv_layers):\n",
    "        conv_ksize   = (ck,ck)\n",
    "        model = conv2d_maxpool(model, (outputs*n), conv_ksize, conv_strides, pool_ksize, pool_strides)\n",
    "        model_shape = model.get_shape().as_list();\n",
    "        logging.debug(\"model_shape  = model.get_shape().as_list():%s\", model_shape)\n",
    "        model = tf.nn.local_response_normalization(model)\n",
    "        ck += 1\n",
    "   \n",
    "    # TODO: Apply a Flatten Layer\n",
    "    # Function Definition from Above:\n",
    "    #   flatten(x_tensor)\n",
    "    \n",
    "    model = flatten(model)\n",
    "    model_shape = model.get_shape().as_list();\n",
    "    logging.debug(\"model_shape  = model.get_shape().as_list():%s\", model_shape)\n",
    "    \n",
    "    \n",
    "    # TODO: Apply 1, 2, or 3 Fully Connected Layers\n",
    "    #    Play around with different number of outputs\n",
    "    # Function Definition from Above:\n",
    "    #   fully_conn(x_tensor, num_outputs)\n",
    "    \n",
    "    model = fully_conn(model, 28)\n",
    "    model_shape = model.get_shape().as_list();\n",
    "    logging.debug(\"model_shape  = model.get_shape().as_list():%s\", model_shape)\n",
    "    model = tf.nn.dropout(model, keep_prob)\n",
    "    \n",
    "    model = fully_conn(model, 14)\n",
    "    model_shape = model.get_shape().as_list();\n",
    "    logging.debug(\"model_shape  = model.get_shape().as_list():%s\", model_shape)\n",
    "    model = tf.nn.dropout(model, keep_prob)\n",
    "\n",
    "    num_outputs = 10\n",
    "    logging.debug(\"def conv_net(x, keep_prob,) - return output(model, num_outputs)\")\n",
    "    \n",
    "    return output(model, num_outputs)\n",
    "\n",
    "\n",
    "\"\"\"\n",
    "DON'T MODIFY ANYTHING IN THIS CELL THAT IS BELOW THIS LINE\n",
    "\"\"\"\n",
    "\n",
    "##############################\n",
    "## Build the Neural Network ##\n",
    "##############################\n",
    "\n",
    "# Remove previous weights, bias, inputs, etc..\n",
    "tf.reset_default_graph()\n",
    "\n",
    "# Inputs\n",
    "x = neural_net_image_input((32, 32, 3))\n",
    "y = neural_net_label_input(10)\n",
    "keep_prob = neural_net_keep_prob_input()\n",
    "\n",
    "# Model\n",
    "logits = conv_net(x, keep_prob)\n",
    "\n",
    "# Name logits Tensor, so that is can be loaded from disk after training\n",
    "logits = tf.identity(logits, name='logits')\n",
    "\n",
    "# Loss and Optimizer\n",
    "cost = tf.reduce_mean(tf.nn.softmax_cross_entropy_with_logits(logits=logits, labels=y))\n",
    "optimizer = tf.train.AdamOptimizer().minimize(cost)\n",
    "\n",
    "# Accuracy\n",
    "correct_pred = tf.equal(tf.argmax(logits, 1), tf.argmax(y, 1))\n",
    "accuracy = tf.reduce_mean(tf.cast(correct_pred, tf.float32), name='accuracy')\n",
    "\n",
    "tests.test_conv_net(conv_net)"
   ]
  },
  {
   "cell_type": "markdown",
   "metadata": {},
   "source": [
    "## Train the Neural Network\n",
    "### Single Optimization\n",
    "Implement the function `train_neural_network` to do a single optimization.  The optimization should use `optimizer` to optimize in `session` with a `feed_dict` of the following:\n",
    "* `x` for image input\n",
    "* `y` for labels\n",
    "* `keep_prob` for keep probability for dropout\n",
    "\n",
    "This function will be called for each batch, so `tf.global_variables_initializer()` has already been called.\n",
    "\n",
    "Note: Nothing needs to be returned. This function is only optimizing the neural network."
   ]
  },
  {
   "cell_type": "code",
   "execution_count": 90,
   "metadata": {
    "collapsed": false
   },
   "outputs": [
    {
     "name": "stdout",
     "output_type": "stream",
     "text": [
      "Tests Passed\n"
     ]
    }
   ],
   "source": [
    "def train_neural_network(session, optimizer, keep_probability, feature_batch, label_batch):\n",
    "    \"\"\"\n",
    "    Optimize the session on a batch of images and labels\n",
    "    : session: Current TensorFlow session\n",
    "    : optimizer: TensorFlow optimizer function\n",
    "    : keep_probability: keep probability\n",
    "    : feature_batch: Batch of Numpy image data\n",
    "    : label_batch: Batch of Numpy label data\n",
    "    \"\"\"\n",
    "    # TODO: Implement Function\n",
    "    logging.debug(\"def train_neural_network(session, optimizer, keep_probability, feature_batch, label_batch)\")\n",
    "    logging.debug(\"session.run(optimizer,feed_dict={x:feature_batch,y:label_batch,keep_prob:keep_probability})\")\n",
    "    return session.run(optimizer, feed_dict={   x: feature_batch,\n",
    "                                                y: label_batch,\n",
    "                                                keep_prob: keep_probability })\n",
    "\n",
    "\n",
    "\"\"\"\n",
    "DON'T MODIFY ANYTHING IN THIS CELL THAT IS BELOW THIS LINE\n",
    "\"\"\"\n",
    "tests.test_train_nn(train_neural_network)"
   ]
  },
  {
   "cell_type": "markdown",
   "metadata": {},
   "source": [
    "### Show Stats\n",
    "Implement the function `print_stats` to print loss and validation accuracy.  Use the global variables `valid_features` and `valid_labels` to calculate validation accuracy.  Use a keep probability of `1.0` to calculate the loss and validation accuracy."
   ]
  },
  {
   "cell_type": "code",
   "execution_count": 91,
   "metadata": {
    "collapsed": false
   },
   "outputs": [],
   "source": [
    "lowest_loss =   999     # initialize the global lowest loss \n",
    "best_epoch  =    -1     # init (to keep score of the best) \n",
    "no_learning = False     # True if no reduction in valid loss was recorded for \"a while\"\n",
    "stop        =    10     # stop running when loss has not decreased for [stop] batch-lines\n",
    "i           =     0     # init\n",
    "\n",
    "def print_stats(session, feature_batch, label_batch, cost, accuracy):\n",
    "    \"\"\"\n",
    "    Print information about loss and validation accuracy\n",
    "    : session: Current TensorFlow session\n",
    "    : feature_batch: Batch of Numpy image data\n",
    "    : label_batch: Batch of Numpy label data\n",
    "    : cost: TensorFlow cost function\n",
    "    : accuracy: TensorFlow accuracy function\n",
    "    \"\"\"\n",
    "    # TODO: Implement Function\n",
    "    train_accu = session.run(accuracy, feed_dict={ keep_prob: 1., x:feature_batch, y:label_batch })\n",
    "    train_loss = session.run(cost,     feed_dict={ keep_prob: 1., x:feature_batch, y:label_batch })\n",
    "    \n",
    "    # I should probably use the validation data for an evaluation of different combos of:\n",
    "    # (nums&sizes of ConvNets compared to nums&sizes of the FC-Nets)  \n",
    "    # I propose instead, just to use the validation data for setting a break on \"no improvement\"\n",
    "    # when we're probably not likely to see anymore fall in loss (or increase in accuracy) \n",
    "    # assuming the Nets performace must have plateaued (or the loss might even have increased).\n",
    "\n",
    "    global lowest_loss      # lowest loss measured on a valid batch so far\n",
    "    global best_epoch       # to keep score of the best \n",
    "    \n",
    "    global no_learning      # True if no reduction in valid loss was recorded for \"a while\"\n",
    "    global stop             # stop running when loss has not decreased for [stop] batch-lines\n",
    "    global i                # init\n",
    "\n",
    "    valid_accu = session.run(accuracy, feed_dict={ keep_prob: 1., x:valid_features, y:valid_labels })\n",
    "    valid_loss = session.run(cost,     feed_dict={ keep_prob: 1., x:valid_features, y:valid_labels })\n",
    "\n",
    "    time_pass = ''\n",
    "    time_pass = split(start_time)\n",
    "    msg = \"since start {0:>10} Loss-tr:{1:>7.5}, Accu-tr:{2:>7.2%} Loss-Val:{3:>7.5}, Accu-Val:{4:>7.2%} \"\n",
    "    logging.info(msg.format(time_pass, train_loss, train_accu, valid_loss, valid_accu))\n",
    "    print       (msg.format(time_pass, train_loss, train_accu, valid_loss, valid_accu))\n",
    "    \n",
    "    if valid_loss < lowest_loss:\n",
    "        lowest_loss = valid_loss\n",
    "        best_epoch  = epoch\n",
    "        i = 0\n",
    "        time_pass = ''\n",
    "        time_pass = split(start_time)\n",
    "        msg=\"lowest_loss: {:>7.5} best_epoch: {:>3} i:{} \"\n",
    "        logging.info(msg.format(lowest_loss, best_epoch+1, i))\n",
    "        print       (msg.format(lowest_loss, best_epoch+1, i))\n",
    "    else:\n",
    "        if (i < stop): \n",
    "            i += 1\n",
    "            logging.debug(\"i:%s\",i)\n",
    "        else:\n",
    "            no_learning = True"
   ]
  },
  {
   "cell_type": "markdown",
   "metadata": {},
   "source": [
    "### Hyperparameters\n",
    "Tune the following parameters:\n",
    "* Set `epochs` to the number of iterations until the network stops learning or start overfitting\n",
    "* Set `batch_size` to the highest number that your machine has memory for.  Most people set them to common sizes of memory:\n",
    " * 64\n",
    " * 128\n",
    " * 256\n",
    " * ...\n",
    "* Set `keep_probability` to the probability of keeping a node using dropout"
   ]
  },
  {
   "cell_type": "code",
   "execution_count": 92,
   "metadata": {
    "collapsed": false
   },
   "outputs": [],
   "source": [
    "# TODO: Tune Parameters\n",
    "epochs           =     1\n",
    "batch_size       =    16\n",
    "keep_probability =     0.85   # used in conjunction with dropout\n",
    "lowest_loss      =   999      # initialize the global lowest loss \n",
    "stop             =    10      # stop running when loss has not decreased for [stop] batch-lines\n",
    "no_learning      = False      # no reduction in valid loss was recorded for \"a while\"\n",
    "i                =     0      # init\n",
    "\n",
    "start_time =    time.time()\n",
    "init_logging()"
   ]
  },
  {
   "cell_type": "markdown",
   "metadata": {},
   "source": [
    "### Train on a Single CIFAR-10 Batch\n",
    "Instead of training the neural network on all the CIFAR-10 batches of data, let's use a single batch. This should save time while you iterate on the model to get a better accuracy.  Once the final validation accuracy is 50% or greater, run the model on all the data in the next section."
   ]
  },
  {
   "cell_type": "code",
   "execution_count": 93,
   "metadata": {
    "collapsed": false
   },
   "outputs": [
    {
     "name": "stdout",
     "output_type": "stream",
     "text": [
      "Checking the Training on a Single Batch...\n",
      "Epoch   1, Batch 1 since start    0:00:56 Loss-tr: 1.9254, Accu-tr: 25.00% Loss-Val: 2.0355, Accu-Val: 22.10% \n",
      "lowest_loss:  2.0355 best_epoch:   1 i:0 \n",
      "finished !!!!\n",
      "\n",
      "\n"
     ]
    }
   ],
   "source": [
    "\"\"\"\n",
    "DON'T MODIFY ANYTHING IN THIS CELL\n",
    "\"\"\"\n",
    "print('Checking the Training on a Single Batch...')\n",
    "with tf.Session() as sess:\n",
    "    # Initializing the variables\n",
    "    sess.run(tf.global_variables_initializer())\n",
    "    \n",
    "    # Training cycle\n",
    "    for epoch in range(epochs):\n",
    "        batch_i = 1\n",
    "        for batch_features, batch_labels in helper.load_preprocess_training_batch(batch_i, batch_size):\n",
    "            train_neural_network(sess, optimizer, keep_probability, batch_features, batch_labels)\n",
    "        print('Epoch {:>3}, Batch {} '.format(epoch + 1, batch_i), end='')\n",
    "        print_stats(sess, batch_features, batch_labels, cost, accuracy)\n",
    "print(\"finished !!!!\\n\\n\")"
   ]
  },
  {
   "cell_type": "markdown",
   "metadata": {},
   "source": [
    "### Fully Train the Model\n",
    "Now that you got a good accuracy with a single CIFAR-10 batch, try it with all five batches."
   ]
  },
  {
   "cell_type": "code",
   "execution_count": 94,
   "metadata": {
    "collapsed": true
   },
   "outputs": [],
   "source": [
    "# TODO: Tune Parameters\n",
    "epochs           =     1\n",
    "batch_size       =    16\n",
    "keep_probability =     0.85   # used in conjunction with dropout\n",
    "lowest_loss      =   999      # initialize the global lowest loss \n",
    "stop             =    10      # stop running when loss has not decreased for [stop] batch-lines\n",
    "no_learning      = False      # no reduction in valid loss was recorded for \"a while\"\n",
    "i                =     0      # init\n",
    "\n",
    "start_time =    time.time()\n",
    "init_logging()"
   ]
  },
  {
   "cell_type": "code",
   "execution_count": 95,
   "metadata": {
    "collapsed": false
   },
   "outputs": [
    {
     "name": "stdout",
     "output_type": "stream",
     "text": [
      "Training...\n",
      "Epoch   1, Batch 1 since start    0:00:56 Loss-tr: 2.0756, Accu-tr: 12.50% Loss-Val: 2.0579, Accu-Val: 22.20% \n",
      "lowest_loss:  2.0579 best_epoch:   1 i:0 \n",
      "Epoch   1, Batch 2 since start    0:01:47 Loss-tr:  1.908, Accu-tr: 37.50% Loss-Val: 1.8765, Accu-Val: 28.20% \n",
      "lowest_loss:  1.8765 best_epoch:   1 i:0 \n",
      "Epoch   1, Batch 3 since start    0:02:37 Loss-tr: 1.7272, Accu-tr: 12.50% Loss-Val:  1.724, Accu-Val: 32.82% \n",
      "lowest_loss:   1.724 best_epoch:   1 i:0 \n",
      "Epoch   1, Batch 4 since start    0:03:28 Loss-tr:  1.714, Accu-tr: 12.50% Loss-Val: 1.6568, Accu-Val: 35.90% \n",
      "lowest_loss:  1.6568 best_epoch:   1 i:0 \n",
      "Epoch   1, Batch 5 since start    0:04:20 Loss-tr: 1.6801, Accu-tr: 25.00% Loss-Val: 1.6475, Accu-Val: 37.82% \n",
      "lowest_loss:  1.6475 best_epoch:   1 i:0 \n",
      "finished Fully Train the Model!!\n",
      "\n",
      "\n"
     ]
    }
   ],
   "source": [
    "\"\"\"\n",
    "DON'T MODIFY ANYTHING IN THIS CELL\n",
    "\"\"\"\n",
    "save_model_path = './image_classification'\n",
    "\n",
    "print('Training...')\n",
    "with tf.Session() as sess:\n",
    "    # Initializing the variables\n",
    "    sess.run(tf.global_variables_initializer())\n",
    "    \n",
    "    # Training cycle\n",
    "    for epoch in range(epochs):\n",
    "        # Loop over all batches\n",
    "        n_batches = 5\n",
    "        for batch_i in range(1, n_batches + 1):\n",
    "            for batch_features, batch_labels in helper.load_preprocess_training_batch(batch_i, batch_size):\n",
    "                train_neural_network(sess, optimizer, keep_probability, batch_features, batch_labels)\n",
    "            print('Epoch {:>3}, Batch {} '.format(epoch + 1, batch_i), end='')\n",
    "            print_stats(sess, batch_features, batch_labels, cost, accuracy)\n",
    "            if (no_learning == True):\n",
    "                break                 # no reduction in loss was recorded for \"a while\"\n",
    "            \n",
    "    # Save Model\n",
    "    saver = tf.train.Saver()\n",
    "    save_path = saver.save(sess, save_model_path)\n",
    "print(\"finished Fully Train the Model!!\\n\\n\")\n"
   ]
  },
  {
   "cell_type": "markdown",
   "metadata": {},
   "source": [
    "# Checkpoint\n",
    "The model has been saved to disk."
   ]
  },
  {
   "cell_type": "markdown",
   "metadata": {},
   "source": [
    "## ...Continue training"
   ]
  },
  {
   "cell_type": "code",
   "execution_count": 96,
   "metadata": {
    "collapsed": false,
    "scrolled": true
   },
   "outputs": [
    {
     "name": "stdout",
     "output_type": "stream",
     "text": [
      "Tune Parameters:    epochs     20,  batch_size    200, keep_probability:   85% \n",
      "lowest_loss   999,    stop     10,  no_learning: False                     i:0\n",
      "restored : ./image_classification\n",
      "...Continue training...\n",
      "saved              chapters/chapter0\n",
      "Epoch   1, Batch 1 since start    0:00:50 Loss-tr: 1.7215, Accu-tr: 34.00% Loss-Val: 1.5579, Accu-Val: 41.06% \n",
      "lowest_loss:  1.5579 best_epoch:   1 i:0 \n",
      "Epoch   1, Batch 2 since start    0:01:36 Loss-tr: 1.5874, Accu-tr: 41.50% Loss-Val: 1.5443, Accu-Val: 41.76% \n",
      "lowest_loss:  1.5443 best_epoch:   1 i:0 \n",
      "Epoch   1, Batch 3 since start    0:02:22 Loss-tr: 1.3833, Accu-tr: 52.00% Loss-Val: 1.5331, Accu-Val: 41.78% \n",
      "lowest_loss:  1.5331 best_epoch:   1 i:0 \n",
      "Epoch   1, Batch 4 since start    0:03:07 Loss-tr: 1.4748, Accu-tr: 41.50% Loss-Val: 1.5258, Accu-Val: 41.78% \n",
      "lowest_loss:  1.5258 best_epoch:   1 i:0 \n",
      "Epoch   1, Batch 5 since start    0:03:53 Loss-tr: 1.4775, Accu-tr: 44.00% Loss-Val: 1.5173, Accu-Val: 42.02% \n",
      "lowest_loss:  1.5173 best_epoch:   1 i:0 \n",
      "saved              chapters/chapter1\n",
      "Epoch   2, Batch 1 since start    0:04:43 Loss-tr: 1.6721, Accu-tr: 34.50% Loss-Val:  1.519, Accu-Val: 41.60% \n",
      "Epoch   2, Batch 2 since start    0:05:29 Loss-tr: 1.5394, Accu-tr: 46.00% Loss-Val: 1.5057, Accu-Val: 42.78% \n",
      "lowest_loss:  1.5057 best_epoch:   2 i:0 \n",
      "Epoch   2, Batch 3 since start    0:06:14 Loss-tr: 1.3449, Accu-tr: 56.50% Loss-Val:  1.501, Accu-Val: 43.46% \n",
      "lowest_loss:   1.501 best_epoch:   2 i:0 \n",
      "Epoch   2, Batch 4 since start    0:06:59 Loss-tr: 1.4318, Accu-tr: 43.50% Loss-Val: 1.4901, Accu-Val: 43.34% \n",
      "lowest_loss:  1.4901 best_epoch:   2 i:0 \n",
      "Epoch   2, Batch 5 since start    0:07:46 Loss-tr: 1.4408, Accu-tr: 45.50% Loss-Val: 1.4838, Accu-Val: 43.84% \n",
      "lowest_loss:  1.4838 best_epoch:   2 i:0 \n",
      "saved              chapters/chapter2\n",
      "Epoch   3, Batch 1 since start    0:08:36 Loss-tr: 1.6208, Accu-tr: 36.50% Loss-Val: 1.4758, Accu-Val: 43.68% \n",
      "lowest_loss:  1.4758 best_epoch:   3 i:0 \n",
      "Epoch   3, Batch 2 since start    0:09:22 Loss-tr: 1.4983, Accu-tr: 49.50% Loss-Val: 1.4765, Accu-Val: 43.90% \n",
      "Epoch   3, Batch 3 since start    0:10:11 Loss-tr:  1.308, Accu-tr: 56.00% Loss-Val: 1.4643, Accu-Val: 44.82% \n",
      "lowest_loss:  1.4643 best_epoch:   3 i:0 \n",
      "Epoch   3, Batch 4 since start    0:10:56 Loss-tr: 1.3951, Accu-tr: 43.50% Loss-Val: 1.4591, Accu-Val: 44.50% \n",
      "lowest_loss:  1.4591 best_epoch:   3 i:0 \n",
      "Epoch   3, Batch 5 since start    0:11:42 Loss-tr: 1.4035, Accu-tr: 47.00% Loss-Val: 1.4469, Accu-Val: 44.82% \n",
      "lowest_loss:  1.4469 best_epoch:   3 i:0 \n",
      "saved              chapters/chapter3\n",
      "Epoch   4, Batch 1 since start    0:12:33 Loss-tr: 1.5776, Accu-tr: 38.50% Loss-Val:  1.444, Accu-Val: 45.58% \n",
      "lowest_loss:   1.444 best_epoch:   4 i:0 \n",
      "Epoch   4, Batch 2 since start    0:13:19 Loss-tr: 1.4421, Accu-tr: 50.50% Loss-Val: 1.4352, Accu-Val: 46.20% \n",
      "lowest_loss:  1.4352 best_epoch:   4 i:0 \n",
      "Epoch   4, Batch 3 since start    0:14:05 Loss-tr: 1.2757, Accu-tr: 57.50% Loss-Val: 1.4342, Accu-Val: 46.14% \n",
      "lowest_loss:  1.4342 best_epoch:   4 i:0 \n",
      "Epoch   4, Batch 4 since start    0:14:51 Loss-tr: 1.3529, Accu-tr: 47.50% Loss-Val: 1.4232, Accu-Val: 46.94% \n",
      "lowest_loss:  1.4232 best_epoch:   4 i:0 \n",
      "Epoch   4, Batch 5 since start    0:15:39 Loss-tr: 1.3474, Accu-tr: 50.00% Loss-Val: 1.4091, Accu-Val: 46.34% \n",
      "lowest_loss:  1.4091 best_epoch:   4 i:0 \n",
      "saved              chapters/chapter4\n",
      "Epoch   5, Batch 1 since start    0:16:34 Loss-tr: 1.5113, Accu-tr: 44.00% Loss-Val: 1.4063, Accu-Val: 47.02% \n",
      "lowest_loss:  1.4063 best_epoch:   5 i:0 \n",
      "Epoch   5, Batch 2 since start    0:17:21 Loss-tr: 1.4038, Accu-tr: 49.50% Loss-Val: 1.3961, Accu-Val: 47.36% \n",
      "lowest_loss:  1.3961 best_epoch:   5 i:0 \n",
      "Epoch   5, Batch 3 since start    0:18:10 Loss-tr: 1.2571, Accu-tr: 55.50% Loss-Val: 1.4048, Accu-Val: 47.56% \n",
      "Epoch   5, Batch 4 since start    0:18:58 Loss-tr: 1.2824, Accu-tr: 50.50% Loss-Val: 1.3806, Accu-Val: 48.38% \n",
      "lowest_loss:  1.3806 best_epoch:   5 i:0 \n",
      "Epoch   5, Batch 5 since start    0:19:45 Loss-tr: 1.2888, Accu-tr: 51.00% Loss-Val: 1.3737, Accu-Val: 47.72% \n",
      "lowest_loss:  1.3737 best_epoch:   5 i:0 \n",
      "saved              chapters/chapter5\n",
      "Epoch   6, Batch 1 since start    0:20:39 Loss-tr: 1.4291, Accu-tr: 47.00% Loss-Val: 1.3521, Accu-Val: 48.94% \n",
      "lowest_loss:  1.3521 best_epoch:   6 i:0 \n",
      "Epoch   6, Batch 2 since start    0:21:27 Loss-tr: 1.3594, Accu-tr: 52.00% Loss-Val: 1.3552, Accu-Val: 49.10% \n",
      "Epoch   6, Batch 3 since start    0:22:15 Loss-tr: 1.1801, Accu-tr: 58.50% Loss-Val: 1.3517, Accu-Val: 49.38% \n",
      "lowest_loss:  1.3517 best_epoch:   6 i:0 \n",
      "Epoch   6, Batch 4 since start    0:23:04 Loss-tr: 1.2313, Accu-tr: 52.50% Loss-Val: 1.3382, Accu-Val: 50.16% \n",
      "lowest_loss:  1.3382 best_epoch:   6 i:0 \n",
      "Epoch   6, Batch 5 since start    0:23:53 Loss-tr: 1.2241, Accu-tr: 56.00% Loss-Val: 1.3319, Accu-Val: 49.86% \n",
      "lowest_loss:  1.3319 best_epoch:   6 i:0 \n",
      "saved              chapters/chapter6\n",
      "Epoch   7, Batch 1 since start    0:24:48 Loss-tr: 1.3649, Accu-tr: 52.00% Loss-Val: 1.3252, Accu-Val: 50.76% \n",
      "lowest_loss:  1.3252 best_epoch:   7 i:0 \n",
      "Epoch   7, Batch 2 since start    0:25:35 Loss-tr: 1.3224, Accu-tr: 53.00% Loss-Val: 1.3138, Accu-Val: 51.00% \n",
      "lowest_loss:  1.3138 best_epoch:   7 i:0 \n",
      "Epoch   7, Batch 3 since start    0:26:22 Loss-tr: 1.1161, Accu-tr: 59.50% Loss-Val: 1.2993, Accu-Val: 51.92% \n",
      "lowest_loss:  1.2993 best_epoch:   7 i:0 \n",
      "Epoch   7, Batch 4 since start    0:27:10 Loss-tr: 1.1788, Accu-tr: 56.00% Loss-Val: 1.2936, Accu-Val: 52.10% \n",
      "lowest_loss:  1.2936 best_epoch:   7 i:0 \n",
      "Epoch   7, Batch 5 since start    0:27:57 Loss-tr: 1.1655, Accu-tr: 57.00% Loss-Val: 1.2948, Accu-Val: 51.64% \n",
      "saved              chapters/chapter7\n",
      "Epoch   8, Batch 1 since start    0:28:53 Loss-tr: 1.2818, Accu-tr: 54.00% Loss-Val: 1.2614, Accu-Val: 53.40% \n",
      "lowest_loss:  1.2614 best_epoch:   8 i:0 \n",
      "Epoch   8, Batch 2 since start    0:29:41 Loss-tr: 1.2907, Accu-tr: 54.50% Loss-Val: 1.2879, Accu-Val: 52.58% \n",
      "Epoch   8, Batch 3 since start    0:30:29 Loss-tr:  1.062, Accu-tr: 62.50% Loss-Val: 1.2673, Accu-Val: 53.22% \n",
      "Epoch   8, Batch 4 since start    0:31:16 Loss-tr: 1.1231, Accu-tr: 59.50% Loss-Val: 1.2544, Accu-Val: 53.52% \n",
      "lowest_loss:  1.2544 best_epoch:   8 i:0 \n",
      "Epoch   8, Batch 5 since start    0:32:04 Loss-tr: 1.1282, Accu-tr: 59.50% Loss-Val: 1.2652, Accu-Val: 52.98% \n",
      "saved              chapters/chapter8\n",
      "Epoch   9, Batch 1 since start    0:33:00 Loss-tr: 1.2255, Accu-tr: 56.50% Loss-Val: 1.2363, Accu-Val: 54.32% \n",
      "lowest_loss:  1.2363 best_epoch:   9 i:0 \n",
      "Epoch   9, Batch 2 since start    0:33:47 Loss-tr:  1.227, Accu-tr: 58.00% Loss-Val: 1.2254, Accu-Val: 55.18% \n",
      "lowest_loss:  1.2254 best_epoch:   9 i:0 \n",
      "Epoch   9, Batch 3 since start    0:34:32 Loss-tr: 1.0303, Accu-tr: 64.00% Loss-Val: 1.2449, Accu-Val: 54.00% \n",
      "Epoch   9, Batch 4 since start    0:35:18 Loss-tr: 1.0796, Accu-tr: 59.00% Loss-Val: 1.2129, Accu-Val: 55.14% \n",
      "lowest_loss:  1.2129 best_epoch:   9 i:0 \n",
      "Epoch   9, Batch 5 since start    0:36:04 Loss-tr: 1.0699, Accu-tr: 61.50% Loss-Val: 1.2295, Accu-Val: 54.70% \n",
      "saved              chapters/chapter9\n",
      "Epoch  10, Batch 1 since start    0:36:58 Loss-tr: 1.1664, Accu-tr: 60.50% Loss-Val: 1.2094, Accu-Val: 56.32% \n",
      "lowest_loss:  1.2094 best_epoch:  10 i:0 \n",
      "Epoch  10, Batch 2 since start    0:37:45 Loss-tr: 1.1839, Accu-tr: 59.00% Loss-Val: 1.1944, Accu-Val: 56.52% \n",
      "lowest_loss:  1.1944 best_epoch:  10 i:0 \n",
      "Epoch  10, Batch 3 since start    0:38:30 Loss-tr:0.98502, Accu-tr: 66.00% Loss-Val:  1.206, Accu-Val: 56.14% \n",
      "Epoch  10, Batch 4 since start    0:39:16 Loss-tr:  1.058, Accu-tr: 61.00% Loss-Val:  1.189, Accu-Val: 56.46% \n",
      "lowest_loss:   1.189 best_epoch:  10 i:0 \n",
      "Epoch  10, Batch 5 since start    0:40:02 Loss-tr: 1.0517, Accu-tr: 58.50% Loss-Val: 1.2049, Accu-Val: 55.56% \n",
      "saved             chapters/chapter10\n",
      "Epoch  11, Batch 1 since start    0:40:57 Loss-tr: 1.1011, Accu-tr: 62.50% Loss-Val: 1.1807, Accu-Val: 57.26% \n",
      "lowest_loss:  1.1807 best_epoch:  11 i:0 \n",
      "Epoch  11, Batch 2 since start    0:41:42 Loss-tr: 1.1742, Accu-tr: 58.00% Loss-Val:  1.189, Accu-Val: 56.64% \n",
      "Epoch  11, Batch 3 since start    0:42:29 Loss-tr:0.93953, Accu-tr: 67.50% Loss-Val: 1.1797, Accu-Val: 57.00% \n",
      "lowest_loss:  1.1797 best_epoch:  11 i:0 \n",
      "Epoch  11, Batch 4 since start    0:43:15 Loss-tr: 1.0215, Accu-tr: 61.50% Loss-Val: 1.1718, Accu-Val: 57.16% \n",
      "lowest_loss:  1.1718 best_epoch:  11 i:0 \n",
      "Epoch  11, Batch 5 since start    0:44:01 Loss-tr:0.98897, Accu-tr: 64.50% Loss-Val: 1.1612, Accu-Val: 57.54% \n",
      "lowest_loss:  1.1612 best_epoch:  11 i:0 \n",
      "saved             chapters/chapter11\n",
      "Epoch  12, Batch 1 since start    0:44:55 Loss-tr: 1.0674, Accu-tr: 63.50% Loss-Val:   1.16, Accu-Val: 57.94% \n",
      "lowest_loss:    1.16 best_epoch:  12 i:0 \n",
      "Epoch  12, Batch 2 since start    0:45:41 Loss-tr: 1.1432, Accu-tr: 60.50% Loss-Val: 1.2026, Accu-Val: 56.14% \n",
      "Epoch  12, Batch 3 since start    0:46:27 Loss-tr:0.91541, Accu-tr: 68.50% Loss-Val:  1.158, Accu-Val: 58.18% \n",
      "lowest_loss:   1.158 best_epoch:  12 i:0 \n",
      "Epoch  12, Batch 4 since start    0:47:13 Loss-tr:0.99488, Accu-tr: 60.50% Loss-Val: 1.1589, Accu-Val: 57.86% \n",
      "Epoch  12, Batch 5 since start    0:47:59 Loss-tr:0.96519, Accu-tr: 64.50% Loss-Val:   1.13, Accu-Val: 58.98% \n",
      "lowest_loss:    1.13 best_epoch:  12 i:0 \n",
      "saved             chapters/chapter12\n",
      "Epoch  13, Batch 1 since start    0:48:56 Loss-tr: 1.0272, Accu-tr: 64.00% Loss-Val: 1.1527, Accu-Val: 58.68% \n",
      "Epoch  13, Batch 2 since start    0:49:44 Loss-tr: 1.1035, Accu-tr: 59.50% Loss-Val: 1.1522, Accu-Val: 57.86% \n",
      "Epoch  13, Batch 3 since start    0:50:31 Loss-tr:0.90199, Accu-tr: 68.00% Loss-Val: 1.1567, Accu-Val: 58.18% \n",
      "Epoch  13, Batch 4 since start    0:51:19 Loss-tr:0.95504, Accu-tr: 62.50% Loss-Val: 1.1311, Accu-Val: 58.82% \n",
      "Epoch  13, Batch 5 since start    0:52:07 Loss-tr: 0.9443, Accu-tr: 64.00% Loss-Val: 1.1231, Accu-Val: 59.72% \n",
      "lowest_loss:  1.1231 best_epoch:  13 i:0 \n",
      "saved             chapters/chapter13\n",
      "Epoch  14, Batch 1 since start    0:53:06 Loss-tr: 1.0276, Accu-tr: 66.00% Loss-Val: 1.1507, Accu-Val: 57.98% \n",
      "Epoch  14, Batch 2 since start    0:53:54 Loss-tr: 1.0512, Accu-tr: 61.50% Loss-Val:  1.136, Accu-Val: 59.52% \n",
      "Epoch  14, Batch 3 since start    0:54:43 Loss-tr:0.86293, Accu-tr: 67.50% Loss-Val: 1.1192, Accu-Val: 59.66% \n",
      "lowest_loss:  1.1192 best_epoch:  14 i:0 \n",
      "Epoch  14, Batch 4 since start    0:55:31 Loss-tr:0.91776, Accu-tr: 65.00% Loss-Val: 1.1153, Accu-Val: 59.96% \n",
      "lowest_loss:  1.1153 best_epoch:  14 i:0 \n",
      "Epoch  14, Batch 5 since start    0:56:19 Loss-tr:0.92448, Accu-tr: 67.00% Loss-Val:  1.122, Accu-Val: 59.28% \n",
      "saved             chapters/chapter14\n",
      "Epoch  15, Batch 1 since start    0:57:18 Loss-tr:0.98284, Accu-tr: 67.00% Loss-Val: 1.1309, Accu-Val: 59.52% \n",
      "Epoch  15, Batch 2 since start    0:58:08 Loss-tr: 1.0358, Accu-tr: 61.50% Loss-Val: 1.1315, Accu-Val: 58.98% \n",
      "Epoch  15, Batch 3 since start    0:58:55 Loss-tr:0.87186, Accu-tr: 69.00% Loss-Val:  1.132, Accu-Val: 59.60% \n",
      "Epoch  15, Batch 4 since start    0:59:43 Loss-tr:0.88913, Accu-tr: 65.00% Loss-Val: 1.1145, Accu-Val: 59.74% \n",
      "lowest_loss:  1.1145 best_epoch:  15 i:0 \n",
      "Epoch  15, Batch 5 since start    1:00:32 Loss-tr:0.89117, Accu-tr: 66.50% Loss-Val: 1.1047, Accu-Val: 59.70% \n",
      "lowest_loss:  1.1047 best_epoch:  15 i:0 \n",
      "saved             chapters/chapter15\n",
      "Epoch  16, Batch 1 since start    1:01:37 Loss-tr:0.93955, Accu-tr: 66.50% Loss-Val: 1.1238, Accu-Val: 59.14% \n",
      "Epoch  16, Batch 2 since start    1:02:28 Loss-tr:  1.021, Accu-tr: 63.00% Loss-Val: 1.1503, Accu-Val: 59.12% \n",
      "Epoch  16, Batch 3 since start    1:03:16 Loss-tr:0.83813, Accu-tr: 69.00% Loss-Val: 1.1059, Accu-Val: 60.34% \n",
      "Epoch  16, Batch 4 since start    1:04:08 Loss-tr:0.86206, Accu-tr: 66.50% Loss-Val: 1.1058, Accu-Val: 60.02% \n",
      "Epoch  16, Batch 5 since start    1:05:00 Loss-tr:0.88511, Accu-tr: 68.50% Loss-Val: 1.0906, Accu-Val: 60.68% \n",
      "lowest_loss:  1.0906 best_epoch:  16 i:0 \n",
      "saved             chapters/chapter16\n",
      "Epoch  17, Batch 1 since start    1:06:04 Loss-tr: 0.9086, Accu-tr: 69.00% Loss-Val: 1.1005, Accu-Val: 60.92% \n",
      "Epoch  17, Batch 2 since start    1:06:53 Loss-tr:0.96405, Accu-tr: 64.00% Loss-Val: 1.1073, Accu-Val: 60.52% \n",
      "Epoch  17, Batch 3 since start    1:07:40 Loss-tr:0.87062, Accu-tr: 66.00% Loss-Val: 1.1226, Accu-Val: 59.48% \n",
      "Epoch  17, Batch 4 since start    1:08:28 Loss-tr: 0.8523, Accu-tr: 70.50% Loss-Val: 1.1123, Accu-Val: 60.28% \n",
      "Epoch  17, Batch 5 since start    1:09:14 Loss-tr:0.86265, Accu-tr: 66.00% Loss-Val: 1.0871, Accu-Val: 60.74% \n",
      "lowest_loss:  1.0871 best_epoch:  17 i:0 \n",
      "saved             chapters/chapter17\n",
      "Epoch  18, Batch 1 since start    1:10:13 Loss-tr:0.92855, Accu-tr: 69.50% Loss-Val: 1.1403, Accu-Val: 59.64% \n",
      "Epoch  18, Batch 2 since start    1:10:59 Loss-tr:0.95161, Accu-tr: 65.50% Loss-Val: 1.1019, Accu-Val: 60.26% \n",
      "Epoch  18, Batch 3 since start    1:11:46 Loss-tr:0.81092, Accu-tr: 71.50% Loss-Val: 1.0881, Accu-Val: 60.96% \n",
      "Epoch  18, Batch 4 since start    1:12:32 Loss-tr:0.84419, Accu-tr: 66.00% Loss-Val: 1.1137, Accu-Val: 60.38% \n",
      "Epoch  18, Batch 5 since start    1:13:19 Loss-tr:0.84092, Accu-tr: 67.00% Loss-Val: 1.0948, Accu-Val: 60.34% \n",
      "saved             chapters/chapter18\n",
      "Epoch  19, Batch 1 since start    1:14:18 Loss-tr:0.89798, Accu-tr: 69.00% Loss-Val: 1.1007, Accu-Val: 60.56% \n",
      "Epoch  19, Batch 2 since start    1:15:04 Loss-tr:0.94444, Accu-tr: 64.50% Loss-Val: 1.0943, Accu-Val: 61.08% \n",
      "Epoch  19, Batch 3 since start    1:15:49 Loss-tr:0.78989, Accu-tr: 72.00% Loss-Val: 1.0825, Accu-Val: 61.04% \n",
      "lowest_loss:  1.0825 best_epoch:  19 i:0 \n",
      "Epoch  19, Batch 4 since start    1:16:35 Loss-tr:0.78133, Accu-tr: 70.50% Loss-Val: 1.0823, Accu-Val: 61.42% \n",
      "lowest_loss:  1.0823 best_epoch:  19 i:0 \n",
      "Epoch  19, Batch 5 since start    1:17:21 Loss-tr:0.84436, Accu-tr: 69.50% Loss-Val: 1.0968, Accu-Val: 61.08% \n",
      "saved             chapters/chapter19\n",
      "Epoch  20, Batch 1 since start    1:18:20 Loss-tr:0.88458, Accu-tr: 69.50% Loss-Val: 1.0944, Accu-Val: 61.08% \n",
      "Epoch  20, Batch 2 since start    1:19:07 Loss-tr:0.90215, Accu-tr: 68.00% Loss-Val: 1.0971, Accu-Val: 61.32% \n",
      "Epoch  20, Batch 3 since start    1:19:53 Loss-tr:0.77482, Accu-tr: 73.50% Loss-Val: 1.0973, Accu-Val: 60.62% \n",
      "Epoch  20, Batch 4 since start    1:20:38 Loss-tr:0.76093, Accu-tr: 74.50% Loss-Val: 1.0864, Accu-Val: 61.24% \n",
      "Epoch  20, Batch 5 since start    1:21:24 Loss-tr: 0.8188, Accu-tr: 69.50% Loss-Val: 1.0881, Accu-Val: 61.36% \n",
      "finished ...Continue training !!!!\n",
      "\n",
      "\n"
     ]
    }
   ],
   "source": [
    "# Need to change ?: Tune Parameters\n",
    "Manual_load      = False\n",
    "epochs           =    20\n",
    "batch_size       =   200\n",
    "keep_probability =     0.85   # used in conjunction with dropout\n",
    "lowest_loss      =   999      # initialize the global lowest loss \n",
    "stop             =    10      # stop running when loss has not decreased for stop batch-lines\n",
    "no_learning      = False      # no reduction in valid loss was recorded for \"a while\"\n",
    "i                =     0      # init\n",
    "\n",
    "start_time =    time.time()\n",
    "init_logging()\n",
    "\n",
    "msg = \"Tune Parameters:    epochs  {0:>5},  batch_size  {1:>5}, keep_probability: {2:>5.0%} \"\n",
    "logging.info(msg.format(epochs, batch_size, keep_probability))\n",
    "print (msg.format(epochs, batch_size,  keep_probability))\n",
    "msg = \"lowest_loss {0:>5},    stop  {1:>5},  no_learning: {2}                     i:{3}\"\n",
    "logging.info(msg.format(lowest_loss, stop, no_learning, i))\n",
    "print (msg.format(lowest_loss, stop, no_learning, i))\n",
    "\n",
    "save_model_path = './image_classification'\n",
    "\n",
    "chp_dir = 'chapters/'\n",
    "if not os.path.exists(chp_dir):\n",
    "    os.makedirs(chp_dir)\n",
    "chp_path = os.path.join(chp_dir, 'chapter')\n",
    "\n",
    "if (Manual_load == True):                   # for \"manual\" chapter loads\n",
    "    save_model_path = \"./chapter3\"\n",
    "    \n",
    "with tf.Session() as sess:\n",
    "    # Initializing the variables\n",
    "    sess.run(tf.global_variables_initializer())\n",
    "    saver.restore(sess,save_model_path)\n",
    "    logging.info(\"restored : %s\", save_model_path)\n",
    "    print(\"restored :\", save_model_path)\n",
    "    \n",
    "    if (Manual_load == True):               # after manual loads\n",
    "        save_model_path = './image_classification'\n",
    "        \n",
    "    # Training cycle\n",
    "    print('...Continue training...')\n",
    "    for epoch in range(epochs):\n",
    "        saver = tf.train.Saver()\n",
    "        chp_path_num = chp_path+str(epoch)\n",
    "        chapter = saver.save(sess, chp_path_num)\n",
    "        msg=\"saved {:>30}\"\n",
    "        logging.info(msg.format(chp_path_num))\n",
    "        print(msg.format(chp_path_num))\n",
    "        # Loop over all batches\n",
    "        n_batches = 5\n",
    "        for batch_i in range(1, n_batches + 1):\n",
    "            for batch_features, batch_labels in helper.load_preprocess_training_batch(batch_i, batch_size):\n",
    "                train_neural_network(sess, optimizer, keep_probability, batch_features, batch_labels)\n",
    "            msg='Epoch {:>3}, Batch {} '\n",
    "            print(msg.format((epoch + 1), batch_i), end='')\n",
    "            logging.info(msg.format(epoch + 1, batch_i))\n",
    "            print_stats(sess, batch_features, batch_labels, cost, accuracy)\n",
    "            if (no_learning == True):\n",
    "                msg=\"no_learning=={0} - # no reduction in loss was recorded since epoch {1}\"\n",
    "                logging.info(msg.format(no_learning, best_epoch))\n",
    "                print(msg.format(no_learning, best_epoch))\n",
    "                break                 # no reduction in loss was recorded for \"a while\"\n",
    "        if (no_learning == True):\n",
    "            msg=\"no_learning=={0} - # no reduction in loss was recorded since epoch {1}\"\n",
    "            logging.info(msg.format(no_learning, best_epoch))\n",
    "            print(msg.format(no_learning, best_epoch))\n",
    "            break                 # no reduction in loss was recorded for \"a while\"\n",
    "\n",
    "    # Save Model\n",
    "    saver = tf.train.Saver()\n",
    "    save_path = saver.save(sess, save_model_path)\n",
    "logging.info(\"finished ...Continue training !!!!\\n\")\n",
    "print(\"finished ...Continue training !!!!\\n\\n\")"
   ]
  },
  {
   "cell_type": "markdown",
   "metadata": {},
   "source": [
    "## Test Model\n",
    "Test your model against the test dataset.  This will be your final accuracy. You should have an accuracy greater than 50%. If you don't, keep tweaking the model architecture and parameters."
   ]
  },
  {
   "cell_type": "code",
   "execution_count": 97,
   "metadata": {
    "collapsed": false
   },
   "outputs": [
    {
     "name": "stdout",
     "output_type": "stream",
     "text": [
      "Testing Accuracy: 0.6239999985694885\n",
      "\n"
     ]
    },
    {
     "data": {
      "image/png": "[encoded data removed]",
      "text/plain": [
       "<matplotlib.figure.Figure at 0x11a787be0>"
      ]
     },
     "metadata": {
      "image/png": {
       "height": 319,
       "width": 355
      }
     },
     "output_type": "display_data"
    }
   ],
   "source": [
    "\"\"\"\n",
    "DON'T MODIFY ANYTHING IN THIS CELL\n",
    "\"\"\"\n",
    "%matplotlib inline\n",
    "%config InlineBackend.figure_format = 'retina'\n",
    "\n",
    "import tensorflow as tf\n",
    "import pickle\n",
    "import helper\n",
    "import random\n",
    "\n",
    "# Set batch size if not already set\n",
    "try:\n",
    "    if batch_size:\n",
    "        pass\n",
    "except NameError:\n",
    "    batch_size = 64\n",
    "\n",
    "save_model_path = './image_classification'\n",
    "n_samples = 4\n",
    "top_n_predictions = 3\n",
    "\n",
    "def test_model():\n",
    "    \"\"\"\n",
    "    Test the saved model against the test dataset\n",
    "    \"\"\"\n",
    "\n",
    "    test_features, test_labels = pickle.load(open('preprocess_training.p', mode='rb'))\n",
    "    loaded_graph = tf.Graph()\n",
    "\n",
    "    with tf.Session(graph=loaded_graph) as sess:\n",
    "        # Load model\n",
    "        loader = tf.train.import_meta_graph(save_model_path + '.meta')\n",
    "        loader.restore(sess, save_model_path)\n",
    "\n",
    "        # Get Tensors from loaded model\n",
    "        loaded_x = loaded_graph.get_tensor_by_name('x:0')\n",
    "        loaded_y = loaded_graph.get_tensor_by_name('y:0')\n",
    "        loaded_keep_prob = loaded_graph.get_tensor_by_name('keep_prob:0')\n",
    "        loaded_logits = loaded_graph.get_tensor_by_name('logits:0')\n",
    "        loaded_acc = loaded_graph.get_tensor_by_name('accuracy:0')\n",
    "        \n",
    "        # Get accuracy in batches for memory limitations\n",
    "        test_batch_acc_total = 0\n",
    "        test_batch_count = 0\n",
    "        \n",
    "        for train_feature_batch, train_label_batch in helper.batch_features_labels(test_features, test_labels, batch_size):\n",
    "            test_batch_acc_total += sess.run(\n",
    "                loaded_acc,\n",
    "                feed_dict={loaded_x: train_feature_batch, loaded_y: train_label_batch, loaded_keep_prob: 1.0})\n",
    "            test_batch_count += 1\n",
    "\n",
    "        print('Testing Accuracy: {}\\n'.format(test_batch_acc_total/test_batch_count))\n",
    "\n",
    "        # Print Random Samples\n",
    "        random_test_features, random_test_labels = tuple(zip(*random.sample(list(zip(test_features, test_labels)), n_samples)))\n",
    "        random_test_predictions = sess.run(\n",
    "            tf.nn.top_k(tf.nn.softmax(loaded_logits), top_n_predictions),\n",
    "            feed_dict={loaded_x: random_test_features, loaded_y: random_test_labels, loaded_keep_prob: 1.0})\n",
    "        helper.display_image_predictions(random_test_features, random_test_labels, random_test_predictions)\n",
    "\n",
    "\n",
    "test_model()"
   ]
  },
  {
   "cell_type": "markdown",
   "metadata": {},
   "source": [
    "## Why 50-70% Accuracy?\n",
    "You might be wondering why you can't get an accuracy any higher. First things first, 50% isn't bad for a simple CNN.  Pure guessing would get you 10% accuracy. However, you might notice people are getting scores [well above 70%](http://rodrigob.github.io/are_we_there_yet/build/classification_datasets_results.html#43494641522d3130).  That's because we haven't taught you all there is to know about neural networks. We still need to cover a few more techniques.\n",
    "## Submitting This Project\n",
    "When submitting this project, make sure to run all the cells before saving the notebook.  Save the notebook file as \"dlnd_image_classification.ipynb\" and save it as a HTML file under \"File\" -> \"Download as\".  Include the \"helper.py\" and \"problem_unittests.py\" files in your submission."
   ]
  }
 ],
 "metadata": {
  "kernelspec": {
   "display_name": "Python 3",
   "language": "python",
   "name": "python3"
  },
  "language_info": {
   "codemirror_mode": {
    "name": "ipython",
    "version": 3
   },
   "file_extension": ".py",
   "mimetype": "text/x-python",
   "name": "python",
   "nbconvert_exporter": "python",
   "pygments_lexer": "ipython3",
   "version": "3.6.0"
  }
 },
 "nbformat": 4,
 "nbformat_minor": 0
}
